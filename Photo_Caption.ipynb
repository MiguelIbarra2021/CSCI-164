{
  "cells": [
    {
      "cell_type": "code",
      "execution_count": 3,
      "metadata": {
        "id": "Q9EI_Ir875rH"
      },
      "outputs": [
        {
          "ename": "SyntaxError",
          "evalue": "invalid syntax (4039532374.py, line 4)",
          "output_type": "error",
          "traceback": [
            "\u001b[1;36m  Cell \u001b[1;32mIn[3], line 4\u001b[1;36m\u001b[0m\n\u001b[1;33m    pip install\u001b[0m\n\u001b[1;37m        ^\u001b[0m\n\u001b[1;31mSyntaxError\u001b[0m\u001b[1;31m:\u001b[0m invalid syntax\n"
          ]
        }
      ],
      "source": [
        "import warnings\n",
        "warnings.filterwarnings(action = 'ignore')\n"
      ]
    },
    {
      "cell_type": "code",
      "execution_count": null,
      "metadata": {
        "id": "mtY4cRly8Axx"
      },
      "outputs": [
        {
          "ename": "ModuleNotFoundError",
          "evalue": "No module named 'transformers'",
          "output_type": "error",
          "traceback": [
            "\u001b[1;31m---------------------------------------------------------------------------\u001b[0m",
            "\u001b[1;31mModuleNotFoundError\u001b[0m                       Traceback (most recent call last)",
            "Cell \u001b[1;32mIn[2], line 1\u001b[0m\n\u001b[1;32m----> 1\u001b[0m \u001b[38;5;28;01mfrom\u001b[39;00m\u001b[38;5;250m \u001b[39m\u001b[38;5;21;01mtransformers\u001b[39;00m\u001b[38;5;250m \u001b[39m\u001b[38;5;28;01mimport\u001b[39;00m pipeline\n\u001b[0;32m      2\u001b[0m \u001b[38;5;28;01mfrom\u001b[39;00m\u001b[38;5;250m \u001b[39m\u001b[38;5;21;01mtransformers\u001b[39;00m\u001b[38;5;21;01m.\u001b[39;00m\u001b[38;5;21;01mutils\u001b[39;00m\u001b[38;5;250m \u001b[39m\u001b[38;5;28;01mimport\u001b[39;00m logging\n\u001b[0;32m      3\u001b[0m logging\u001b[38;5;241m.\u001b[39mset_verbosity(\u001b[38;5;241m40\u001b[39m)\n",
            "\u001b[1;31mModuleNotFoundError\u001b[0m: No module named 'transformers'"
          ]
        }
      ],
      "source": [
        "from transformers import pipeline\n",
        "from transformers.utils import logging\n",
        "logging.set_verbosity(40)"
      ]
    },
    {
      "cell_type": "code",
      "execution_count": null,
      "metadata": {
        "id": "Zqd9HRQ2Mits"
      },
      "outputs": [],
      "source": [
        "from IPython.display import Image"
      ]
    },
    {
      "cell_type": "code",
      "execution_count": null,
      "metadata": {
        "id": "maw0OF4oCh3U"
      },
      "outputs": [],
      "source": [
        "# file 1\n",
        "#https://drive.google.com/file/d/1b47sxG6Z7W8JiubMKSN38W30cbRzbTAN/view?usp=drive_link\n",
        "!gdown 1b47sxG6Z7W8JiubMKSN38W30cbRzbTAN\n",
        "file_name1 = \"PXL_20241130_204227352.MP~2.jpg\""
      ]
    },
    {
      "cell_type": "code",
      "execution_count": null,
      "metadata": {
        "id": "pxXIdIC9DPr-"
      },
      "outputs": [],
      "source": [
        "# file 2\n",
        "# https://drive.google.com/file/d/17MwA0uk4T8k9-z3fC43Qvibmxv5-EwNK/view?usp=drive_link\n",
        "!gdown 17MwA0uk4T8k9-z3fC43Qvibmxv5-EwNK\n",
        "file_name2 = \"PXL_20250110_190441292.jpg\""
      ]
    },
    {
      "cell_type": "code",
      "execution_count": null,
      "metadata": {
        "id": "s8WGIBPnDu2q"
      },
      "outputs": [],
      "source": [
        "# file 3\n",
        "# https://drive.google.com/file/d/1K-UIDdqQE62hFYe9HQWNWaHG1K30tJ7K/view?usp=drive_link\n",
        "!gdown 1K-UIDdqQE62hFYe9HQWNWaHG1K30tJ7K\n",
        "file_name3 = \"PXL_20250110_184941976.jpg\""
      ]
    },
    {
      "cell_type": "code",
      "execution_count": null,
      "metadata": {
        "id": "Mw7x7uh_8KfT"
      },
      "outputs": [],
      "source": [
        "### Task: Image captioning\n",
        "captioner = pipeline(task=\"image-to-text\",\n",
        "                     model=\"microsoft/git-base\")"
      ]
    },
    {
      "cell_type": "code",
      "execution_count": null,
      "metadata": {
        "id": "1o8ddeZE80aX"
      },
      "outputs": [],
      "source": [
        "file_name = file_name1"
      ]
    },
    {
      "cell_type": "code",
      "execution_count": null,
      "metadata": {
        "id": "MSORe2qy9bYS"
      },
      "outputs": [],
      "source": [
        "captioner2 = pipeline(\"image-to-text\", model=\"noamrot/FuseCap_Image_Captioning\")"
      ]
    },
    {
      "cell_type": "code",
      "execution_count": null,
      "metadata": {
        "id": "ifcbLN3d96rj"
      },
      "outputs": [],
      "source": [
        "captioner3 = pipeline(\"image-to-text\", model=\"prometheus-eval/prometheus-vision-13b-v1.0\")"
      ]
    },
    {
      "cell_type": "code",
      "execution_count": null,
      "metadata": {
        "id": "n35BzA2X83Zf"
      },
      "outputs": [],
      "source": [
        "cap1 = captioner(file_name1)\n",
        "print(cap1)"
      ]
    },
    {
      "cell_type": "code",
      "execution_count": null,
      "metadata": {
        "id": "QcAS2fvW9h0q"
      },
      "outputs": [],
      "source": [
        "cap2 = captioner2(file_name2)\n",
        "print(cap2)"
      ]
    },
    {
      "cell_type": "code",
      "execution_count": null,
      "metadata": {
        "id": "q8bdXfHl-H30"
      },
      "outputs": [],
      "source": [
        "cap3 = captioner3(file_name3)\n",
        "print(cap3)"
      ]
    },
    {
      "cell_type": "markdown",
      "metadata": {
        "id": "NM-x79d0Ef-o"
      },
      "source": [
        "# Photo 1"
      ]
    },
    {
      "cell_type": "code",
      "execution_count": null,
      "metadata": {
        "id": "ArhbjSqrEhj4"
      },
      "outputs": [],
      "source": [
        "print(cap1)\n",
        "display(Image(filename=file_name1))"
      ]
    },
    {
      "cell_type": "markdown",
      "metadata": {
        "id": "lwiWPgfiF5YZ"
      },
      "source": [
        "# Photo 2"
      ]
    },
    {
      "cell_type": "code",
      "execution_count": null,
      "metadata": {
        "id": "EiPu14KeF9za"
      },
      "outputs": [],
      "source": [
        "print(cap2)\n",
        "display(Image(filename=file_name2))"
      ]
    },
    {
      "cell_type": "markdown",
      "metadata": {
        "id": "vcouDbqJE9vi"
      },
      "source": [
        "# Photo 3\n",
        "\n"
      ]
    },
    {
      "cell_type": "code",
      "execution_count": null,
      "metadata": {
        "id": "afZ9Uxk9E8oq"
      },
      "outputs": [],
      "source": [
        "print(cap3)\n",
        "display(Image(filename=file_name3))"
      ]
    }
  ],
  "metadata": {
    "accelerator": "TPU",
    "colab": {
      "gpuType": "V28",
      "provenance": []
    },
    "kernelspec": {
      "display_name": "Python 3",
      "name": "python3"
    },
    "language_info": {
      "codemirror_mode": {
        "name": "ipython",
        "version": 3
      },
      "file_extension": ".py",
      "mimetype": "text/x-python",
      "name": "python",
      "nbconvert_exporter": "python",
      "pygments_lexer": "ipython3",
      "version": "3.9.13"
    }
  },
  "nbformat": 4,
  "nbformat_minor": 0
}
